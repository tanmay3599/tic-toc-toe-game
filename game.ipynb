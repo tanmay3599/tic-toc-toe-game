{
 "cells": [
  {
   "cell_type": "code",
   "execution_count": 1,
   "metadata": {},
   "outputs": [],
   "source": [
    "from IPython.display import clear_output\n",
    "\n",
    "\n",
    "def displayboard(board):\n",
    "    clear_output()\n",
    "    print(board[7]+' | '+board[8]+' | '+board[9])\n",
    "    print('--|--'+'-|--')\n",
    "    print(board[4]+' | '+board[5]+' | '+board[6])\n",
    "    print('--|--'+'-|--')\n",
    "    print(board[1]+' | '+board[2]+' | '+board[3])"
   ]
  },
  {
   "cell_type": "code",
   "execution_count": 2,
   "metadata": {},
   "outputs": [
    {
     "name": "stdout",
     "output_type": "stream",
     "text": [
      "X | O | X\n",
      "--|---|--\n",
      "O | X | O\n",
      "--|---|--\n",
      "X | O | X\n"
     ]
    }
   ],
   "source": [
    "board = ['#','X','O','X','O','X','O','X','O','X']\n",
    "displayboard(board)"
   ]
  },
  {
   "cell_type": "code",
   "execution_count": 3,
   "metadata": {},
   "outputs": [],
   "source": [
    "def playerinput():\n",
    "    mark=' '\n",
    "    \n",
    "    if mark!='X' and mark!='O':\n",
    "        mark=input('enter your mark X or O==>  ').upper()\n",
    "   \n",
    "        \n",
    "    if mark=='X':\n",
    "         return ('X','O')\n",
    "      \n",
    "    else:\n",
    "         return ('O','X')"
   ]
  },
  {
   "cell_type": "code",
   "execution_count": 4,
   "metadata": {},
   "outputs": [
    {
     "name": "stdout",
     "output_type": "stream",
     "text": [
      "enter your mark X or O==>  x\n"
     ]
    },
    {
     "data": {
      "text/plain": [
       "('X', 'O')"
      ]
     },
     "execution_count": 4,
     "metadata": {},
     "output_type": "execute_result"
    }
   ],
   "source": [
    "playerinput()"
   ]
  },
  {
   "cell_type": "code",
   "execution_count": 5,
   "metadata": {},
   "outputs": [],
   "source": [
    "def placemaker(board,mark,position):\n",
    "    board[position]= mark"
   ]
  },
  {
   "cell_type": "code",
   "execution_count": 6,
   "metadata": {},
   "outputs": [
    {
     "name": "stdout",
     "output_type": "stream",
     "text": [
      "X | O | X\n",
      "--|---|--\n",
      "O | X | $\n",
      "--|---|--\n",
      "X | O | X\n"
     ]
    }
   ],
   "source": [
    "placemaker(board,'$',6)\n",
    "displayboard(board)"
   ]
  },
  {
   "cell_type": "code",
   "execution_count": 7,
   "metadata": {},
   "outputs": [],
   "source": [
    "def wincheck(board,mark):\n",
    "    return ((board[7]==mark and board[8]==mark and board[9]==mark) or\n",
    "       (board[4]==mark and board[5]==mark and board[6]==mark) or\n",
    "       (board[1]==mark and board[2]==mark and board[3]==mark) or\n",
    "       (board[7]==mark and board[5]==mark and board[3]==mark) or\n",
    "       (board[9]==mark and board[5]==mark and board[1]==mark) or\n",
    "       (board[7]==mark and board[4]==mark and board[1]==mark) or\n",
    "       (board[9]==mark and board[6]==mark and board[3]==mark) or\n",
    "       (board[8]==mark and board[5]==mark and board[2]==mark) )"
   ]
  },
  {
   "cell_type": "code",
   "execution_count": 8,
   "metadata": {},
   "outputs": [
    {
     "data": {
      "text/plain": [
       "False"
      ]
     },
     "execution_count": 8,
     "metadata": {},
     "output_type": "execute_result"
    }
   ],
   "source": [
    "wincheck(board,'O')"
   ]
  },
  {
   "cell_type": "code",
   "execution_count": 9,
   "metadata": {},
   "outputs": [],
   "source": [
    "import random \n",
    "\n",
    "def choosefirst():\n",
    "    x= random.randint(0,1)\n",
    "    if x==0:\n",
    "        return 'player1'\n",
    "    else:\n",
    "        return 'player2'\n",
    "    "
   ]
  },
  {
   "cell_type": "code",
   "execution_count": 10,
   "metadata": {},
   "outputs": [
    {
     "data": {
      "text/plain": [
       "'player1'"
      ]
     },
     "execution_count": 10,
     "metadata": {},
     "output_type": "execute_result"
    }
   ],
   "source": [
    "choosefirst()"
   ]
  },
  {
   "cell_type": "code",
   "execution_count": 11,
   "metadata": {},
   "outputs": [],
   "source": [
    "def spacecheck(board,position):\n",
    "    return board[position]==' '\n",
    "        "
   ]
  },
  {
   "cell_type": "code",
   "execution_count": 12,
   "metadata": {},
   "outputs": [],
   "source": [
    "def fullboardcheck(board):\n",
    "    for i in range(1,10):\n",
    "        if spacecheck(board,i):\n",
    "            return False\n",
    "        \n",
    "    return True"
   ]
  },
  {
   "cell_type": "code",
   "execution_count": 13,
   "metadata": {},
   "outputs": [
    {
     "data": {
      "text/plain": [
       "True"
      ]
     },
     "execution_count": 13,
     "metadata": {},
     "output_type": "execute_result"
    }
   ],
   "source": [
    "fullboardcheck(board)"
   ]
  },
  {
   "cell_type": "code",
   "execution_count": 14,
   "metadata": {},
   "outputs": [],
   "source": [
    "def playerchoice(board):\n",
    "    position=0\n",
    "    \n",
    "    while position not in[1,2,3,4,5,6,7,8,9] or not spacecheck(board,position):\n",
    "        position= int(input('enter your desired next position ==>'))\n",
    "        \n",
    "    return position\n",
    "        "
   ]
  },
  {
   "cell_type": "code",
   "execution_count": 15,
   "metadata": {},
   "outputs": [],
   "source": [
    "def replay():\n",
    "    return input('do you want to play again ==> y or n').lower().startswith('y')\n",
    "        "
   ]
  },
  {
   "cell_type": "code",
   "execution_count": null,
   "metadata": {
    "scrolled": false
   },
   "outputs": [
    {
     "name": "stdout",
     "output_type": "stream",
     "text": [
      "enter your mark X or O==>  x\n",
      "player1  YOUR TURN FIRST\n",
      "do you want to play??yes or no no\n"
     ]
    }
   ],
   "source": [
    "\n",
    "while True:\n",
    "    \n",
    "    board=[' ']*10\n",
    "    player1mark,player2mark=playerinput()\n",
    "    turn=choosefirst()\n",
    "    print( turn +'  YOUR TURN FIRST')\n",
    "    \n",
    "    select=input('do you want to play??yes or no ').lower()\n",
    "    \n",
    "    if select=='yes':\n",
    "        gameon =True\n",
    "        \n",
    "    else:\n",
    "        gameon =False\n",
    "        \n",
    "    \n",
    "    while gameon:\n",
    "        if turn=='player1':\n",
    "            displayboard(board)\n",
    "            position= playerchoice(board)\n",
    "            placemaker(board,player1mark,position)\n",
    "            \n",
    "            if wincheck(board,player1mark):\n",
    "                displayboard(board)\n",
    "                print('CONGRATULATIONS PLAYER1 U HAVE WON')\n",
    "                gameon=False\n",
    "                \n",
    "                \n",
    "            else:\n",
    "                if fullboardcheck(board):\n",
    "                    displayboard(board)\n",
    "                    print('MATCH TIED!!!!!')\n",
    "                    break\n",
    "                    \n",
    "                else:\n",
    "                    turn='player2'\n",
    "                    \n",
    "        else:\n",
    "            displayboard(board)\n",
    "            position= playerchoice(board)\n",
    "            placemaker(board,player2mark,position)\n",
    "            \n",
    "            if wincheck(board,player2mark):\n",
    "                displayboard(board)\n",
    "                print('CONGRATULATIONS PLAYER2 U HAVE WON')\n",
    "                gameon=False\n",
    "                \n",
    "                \n",
    "            else:\n",
    "                if fullboardcheck(board):\n",
    "                    displayboard(board)\n",
    "                    print('MATCH TIED!!!!!')\n",
    "                    break\n",
    "                    \n",
    "                else:\n",
    "                    turn='player1'\n",
    "                    \n",
    "                    \n",
    "                    \n",
    "    if not replay():\n",
    "        break\n",
    "                \n",
    "        \n",
    "        \n",
    "    "
   ]
  },
  {
   "cell_type": "code",
   "execution_count": null,
   "metadata": {},
   "outputs": [],
   "source": []
  },
  {
   "cell_type": "code",
   "execution_count": null,
   "metadata": {},
   "outputs": [],
   "source": []
  }
 ],
 "metadata": {
  "kernelspec": {
   "display_name": "Python 3",
   "language": "python",
   "name": "python3"
  },
  "language_info": {
   "codemirror_mode": {
    "name": "ipython",
    "version": 3
   },
   "file_extension": ".py",
   "mimetype": "text/x-python",
   "name": "python",
   "nbconvert_exporter": "python",
   "pygments_lexer": "ipython3",
   "version": "3.7.1"
  }
 },
 "nbformat": 4,
 "nbformat_minor": 2
}
